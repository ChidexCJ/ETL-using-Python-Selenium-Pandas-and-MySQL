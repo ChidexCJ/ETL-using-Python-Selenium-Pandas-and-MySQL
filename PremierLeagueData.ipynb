{
 "cells": [
  {
   "cell_type": "markdown",
   "metadata": {},
   "source": [
    "## This project is aimed at using an automation module \"Selenium\" to scrape performance data of footballers in English Premier League for the 2022/2023 season from a football data site \"fbref.com\". Three steps were involved in the entire operation.\n",
    "- ### Extraction\n",
    "- ### Transformation\n",
    "- ### Loading\n"
   ]
  },
  {
   "cell_type": "markdown",
   "metadata": {},
   "source": [
    "##### EXTRACTION STEPS\n",
    "- ##### The primary tool here is Selenium, which interact with the web page using a driver. for the purpose of this project, a chrome driver matching the desktop windows specification was downloaded and added to project folder.\n",
    "- ##### Creating an object of the driver and web URL.\n",
    "- ##### Inspecting web page for static build."
   ]
  },
  {
   "cell_type": "code",
   "execution_count": 67,
   "metadata": {},
   "outputs": [],
   "source": [
    "from selenium import webdriver\n",
    "from selenium.webdriver.chrome.service import Service\n",
    "from selenium.webdriver.common.by import By\n",
    "\n",
    "# Provide the path to the downloaded driver executable\n",
    "driver_path = \"chromedriver.exe\"\n",
    "service = Service(driver_path)\n",
    "service.start()\n",
    "\n",
    "\n",
    "# Create a new instance of the web driver\n",
    "driver = webdriver.Remote(service.service_url)\n",
    "url = \"https://fbref.com/en/comps/9/stats/Premier-League-Stats\"\n",
    "driver.get(url)\n",
    "\n",
    "\n",
    "head = [] #contains column titles\n",
    "for header in driver.find_elements(By.XPATH, '//*[@id=\"stats_standard\"]/thead/tr[2]/th'):\n",
    "    head.append(header.text)\n",
    "\n",
    "table = [] #contains data\n",
    "for names in driver.find_elements(By.XPATH, '//*[@id=\"stats_standard\"]/tbody/tr/td'):\n",
    "    table.append(names.text)\n",
    "\n"
   ]
  },
  {
   "cell_type": "code",
   "execution_count": 69,
   "metadata": {},
   "outputs": [],
   "source": [
    "from selenium import webdriver\n",
    "from selenium.webdriver.chrome.service import Service\n",
    "from selenium.webdriver.common.by import By\n",
    "\n",
    "# Provide the path to the downloaded driver executable\n",
    "driver_path = \"chromedriver.exe\"\n",
    "service = Service(driver_path)\n",
    "service.start()\n",
    "\n",
    "\n",
    "# Create a new instance of the web driver\n",
    "driver = webdriver.Remote(service.service_url)\n",
    "url = \"https://fbref.com/en/comps/9/2023-2024/stats/2023-2024-Premier-League-Stats#all_stats_standard\"\n",
    "driver.get(url)\n",
    "\n",
    "\n",
    "head = [] #contains column titles\n",
    "for header in driver.find_elements(By.XPATH, '//*[@id=\"stats_standard\"]/thead/tr[2]/th'):\n",
    "    head.append(header.text)\n",
    "\n",
    "table = [] #contains data\n",
    "for names in driver.find_elements(By.XPATH, '//*[@id=\"stats_standard\"]/tbody/tr/td'):\n",
    "    table.append(names.text)"
   ]
  },
  {
   "cell_type": "markdown",
   "metadata": {},
   "source": [
    "##### TRANSFORMATION STEPS\n",
    "- ##### Removing of redundant columns\n",
    "- ##### Renaming of Columns\n",
    "- ##### Creation of individual lists\n",
    "- ##### Loading to a pandas Dataframe\n",
    "- ##### Data Type Casting"
   ]
  },
  {
   "cell_type": "code",
   "execution_count": 71,
   "metadata": {},
   "outputs": [],
   "source": [
    "#remove first element as it is not useful to final table\n",
    "head.pop(0)\n",
    "\n",
    "# change the name of elment \"Gls\" as it is duplicated\n",
    "head[25] = 'Gls/90'\n",
    "head[26] = 'ASt/90'\n",
    "head[27] = 'G+A/90'\n",
    "head[28] = 'G-PK/90'\n",
    "head[29] = 'G+A-PK/90'\n",
    "head[30] = 'XG/90'\n",
    "head[31] = 'XAG/90'\n",
    "head[32] = 'XG+XAG/90'\n",
    "head[33] = 'npXG/90'\n",
    "head[34] = 'npXG+XAG/90'\n"
   ]
  },
  {
   "cell_type": "code",
   "execution_count": 73,
   "metadata": {},
   "outputs": [],
   "source": [
    "def splitter(lst, size):\n",
    "    '''this function splits a list into lists of designated element size\n",
    "    lst = list to be splitted\n",
    "    size = length of each list'''\n",
    "    for i in range(0, len(lst), size):\n",
    "        x =  lst[i:i+size]\n",
    "        yield x"
   ]
  },
  {
   "cell_type": "code",
   "execution_count": 74,
   "metadata": {},
   "outputs": [],
   "source": [
    "# using the function to split the table list\n",
    "table_data = list(splitter(table, 36))"
   ]
  },
  {
   "cell_type": "code",
   "execution_count": 75,
   "metadata": {},
   "outputs": [],
   "source": [
    "#creating a pandas datframe for table_data\n",
    "import pandas as pd\n",
    "data = pd.DataFrame(table_data, columns=head)\n",
    "data.drop('Matches', axis=1, inplace=True)"
   ]
  },
  {
   "cell_type": "code",
   "execution_count": 76,
   "metadata": {},
   "outputs": [
    {
     "data": {
      "text/plain": [
       "Index(['Player', 'Nation', 'Pos', 'Squad', 'Age', 'Born', 'MP', 'Starts',\n",
       "       'Min', '90s', 'Gls', 'Ast', 'G+A', 'G-PK', 'PK', 'PKatt', 'CrdY',\n",
       "       'CrdR', 'xG', 'npxG', 'xAG', 'npxG+xAG', 'PrgC', 'PrgP', 'PrgR',\n",
       "       'Gls/90', 'ASt/90', 'G+A/90', 'G-PK/90', 'G+A-PK/90', 'XG/90', 'XAG/90',\n",
       "       'XG+XAG/90', 'npXG/90', 'npXG+XAG/90'],\n",
       "      dtype='object')"
      ]
     },
     "execution_count": 76,
     "metadata": {},
     "output_type": "execute_result"
    }
   ],
   "source": [
    "data.columns"
   ]
  },
  {
   "cell_type": "code",
   "execution_count": 77,
   "metadata": {},
   "outputs": [],
   "source": [
    "# Removes comma from \"Min\" column values\n",
    "data['Min'] = data[\"Min\"].str.replace(\",\", \"\")\n"
   ]
  },
  {
   "cell_type": "code",
   "execution_count": 78,
   "metadata": {},
   "outputs": [],
   "source": [
    "data[[\"Age\", \"Born\", \"MP\", \"Starts\", \"Min\", \"Gls\", \"Ast\", \"G+A\", \n",
    "      \"PK\", \"G-PK\", \"PKatt\", \"CrdY\", \"CrdR\", \"PrgC\", \"PrgP\", \"PrgR\"]] = data[[\"Age\", \"Born\", \"MP\", \"Starts\", \"Min\", \"Gls\", \"Ast\", \"G+A\", \n",
    "      \"PK\", \"G-PK\", \"PKatt\", \"CrdY\", \"CrdR\", \"PrgC\", \"PrgP\", \"PrgR\"]].astype(int)"
   ]
  },
  {
   "cell_type": "code",
   "execution_count": 79,
   "metadata": {},
   "outputs": [],
   "source": [
    "data[['Gls/90', 'ASt/90', 'G+A/90', 'G-PK/90', 'G+A-PK/90', 'XG/90', 'XAG/90',\n",
    "       'XG+XAG/90', 'npXG/90', 'npXG+XAG/90', 'xG', 'npxG', 'xAG', 'npxG+xAG', '90s']] = data[['Gls/90', 'ASt/90', 'G+A/90', 'G-PK/90', 'G+A-PK/90', 'XG/90', 'XAG/90',\n",
    "       'XG+XAG/90', 'npXG/90', 'npXG+XAG/90', 'xG', 'npxG', 'xAG', 'npxG+xAG', '90s']].astype(float)"
   ]
  },
  {
   "cell_type": "code",
   "execution_count": 80,
   "metadata": {},
   "outputs": [],
   "source": [
    "data1 = data.drop('Pos', axis=1)"
   ]
  },
  {
   "cell_type": "code",
   "execution_count": 81,
   "metadata": {},
   "outputs": [],
   "source": [
    "data.to_csv('EplTable.csv', index=False)"
   ]
  },
  {
   "cell_type": "markdown",
   "metadata": {},
   "source": [
    "\n",
    "##### LOADING STEP\n",
    "- ##### Loading of tabular data to MySQL Datatbase"
   ]
  },
  {
   "cell_type": "code",
   "execution_count": 82,
   "metadata": {},
   "outputs": [],
   "source": [
    "import pandas as pd\n",
    "from sqlalchemy import create_engine\n",
    "import configparser\n",
    "\n",
    "\n",
    "\n",
    "config = configparser.ConfigParser()\n",
    "config.read('config.ini')\n",
    "\n",
    "# declare variables for config values\n",
    "db_host = config['inputs']['host']\n",
    "db_user = config['inputs']['user']\n",
    "db_password = config['inputs']['password']\n",
    "db_name = config['inputs']['db']\n",
    "db_port = config['inputs']['port']\n",
    "\n",
    "# MySQL database connection details\n",
    "# db_host = config.host\n",
    "# db_port = config.por = t\n",
    "# db_user = config.user\n",
    "# db_password = config.password\n",
    "# db_name = config.database\n",
    "\n",
    "\n",
    "# Create the MySQL engine\n",
    "engine = create_engine(f\"mysql+pymysql://{db_user}:{db_password}@{db_host}:{db_port}/{db_name}\")\n",
    "\n",
    "# Upload the DataFrame to the MySQL database table\n",
    "data.to_sql('epl_player_stats', con=engine, if_exists='replace', index=False)\n",
    "\n",
    "# Close the database connection\n",
    "engine.dispose()\n"
   ]
  },
  {
   "cell_type": "code",
   "execution_count": null,
   "metadata": {},
   "outputs": [
    {
     "data": {
      "text/plain": [
       "-1"
      ]
     },
     "execution_count": 52,
     "metadata": {},
     "output_type": "execute_result"
    }
   ],
   "source": [
    "from sqlalchemy import create_engine\n",
    "\n",
    "server = \"DESKTOP-96RHBU9\\SQLEXPRESS\"\n",
    "database = \"epl\"\n",
    "username = \"chidiafam\"\n",
    "password = \"Mystudy2023.\"\n",
    "\n",
    "engg = create_engine(\"mssql+pyodbc://\"+username+\":\"+password+\"@\"+server+\"/\"+database+\"?driver=ODBC Driver 17 for SQL Server\", fast_executemany = True)\n",
    "data.to_sql('epl_player_stats', engg, if_exists='replace', index=False)\n"
   ]
  },
  {
   "cell_type": "code",
   "execution_count": 83,
   "metadata": {},
   "outputs": [],
   "source": [
    "from sqlalchemy import create_engine\n",
    "from sqlalchemy.exc import DBAPIError\n",
    "try:\n",
    "    server = \"DESKTOP-96RHBU9\\SQLEXPRESS\"\n",
    "    database = \"football\"\n",
    "    username = \"chidiafam\"\n",
    "    password = \"Mystudy2023.\"\n",
    "\n",
    "    connect_string= \"mssql+pyodbc://\"+username+\":\"+password+\"@\"+server+\":\"+\"1433/\"+database+\"?driver=ODBC Driver 17 for SQL Server\"\n",
    "    eng = create_engine(connect_string)\n",
    "\n",
    "    data.to_sql('epl_player_stats', eng, if_exists='replace', index=False, schema=None)\n",
    "except DBAPIError as e:\n",
    "    print(e)"
   ]
  },
  {
   "cell_type": "code",
   "execution_count": null,
   "metadata": {},
   "outputs": [],
   "source": []
  }
 ],
 "metadata": {
  "kernelspec": {
   "display_name": "Python 3 (ipykernel)",
   "language": "python",
   "name": "python3"
  },
  "language_info": {
   "codemirror_mode": {
    "name": "ipython",
    "version": 3
   },
   "file_extension": ".py",
   "mimetype": "text/x-python",
   "name": "python",
   "nbconvert_exporter": "python",
   "pygments_lexer": "ipython3",
   "version": "3.10.4"
  }
 },
 "nbformat": 4,
 "nbformat_minor": 2
}
