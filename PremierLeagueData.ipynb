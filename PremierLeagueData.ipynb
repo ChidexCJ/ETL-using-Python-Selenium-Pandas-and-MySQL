{
 "cells": [
  {
   "attachments": {},
   "cell_type": "markdown",
   "metadata": {},
   "source": [
    "## This project is aimed at using an automation module \"Selenium\" to scrape performance data of footballers in English Premier League for the 2022/2023 season from a football data site \"fbref.com\". Three steps were involved in the entire operation.\n",
    "- ### Extraction\n",
    "- ### Transformation\n",
    "- ### Loading\n"
   ]
  },
  {
   "attachments": {},
   "cell_type": "markdown",
   "metadata": {},
   "source": [
    "##### EXTRACTION STEPS\n",
    "- ##### The primary tool here is Selenium, which interact with the web page using a driver. for the purpose of this project, a chrome driver matching the desktop windows specification was downloaded and added to project folder.\n",
    "- ##### Creating an object of the driver and web URL.\n",
    "- ##### Inspecting web page for static build."
   ]
  },
  {
   "cell_type": "code",
   "execution_count": 1,
   "metadata": {},
   "outputs": [
    {
     "name": "stderr",
     "output_type": "stream",
     "text": [
      "C:\\Users\\HP\\AppData\\Local\\Temp\\ipykernel_49084\\922639451.py:8: DeprecationWarning: executable_path has been deprecated, please pass in a Service object\n",
      "  driver = webdriver.Chrome(executable_path=driver_path)  # Replace with the appropriate driver\n"
     ]
    }
   ],
   "source": [
    "from selenium import webdriver\n",
    "from selenium.webdriver.common.by import By\n",
    "\n",
    "# Provide the path to the downloaded driver executable\n",
    "driver_path = \"chromedriver.exe\"\n",
    "\n",
    "# Create a new instance of the web driver\n",
    "driver = webdriver.Chrome(executable_path=driver_path)  # Replace with the appropriate driver\n",
    "\n",
    "url = \"https://fbref.com/en/comps/9/stats/Premier-League-Stats\"\n",
    "driver.get(url)\n",
    "\n",
    "#table_XPAth = //*[@id=\"stats_standard\"]/tbody/tr[1]/td[1]\n",
    "#header_XPath = //*[@id=\"stats_standard\"]/thead/tr[2]/th\n",
    "#remove row position locator from table_XPath element\n",
    "#table_XPAth = //*[@id=\"stats_standard\"]/tbody/tr/td\n",
    "\n",
    "\n",
    "head = [] #contains column titles\n",
    "for header in driver.find_elements(By.XPATH, '//*[@id=\"stats_standard\"]/thead/tr[2]/th'):\n",
    "    head.append(header.text)\n",
    "\n",
    "table = [] #contains data\n",
    "for names in driver.find_elements(By.XPATH, '//*[@id=\"stats_standard\"]/tbody/tr/td'):\n",
    "    table.append(names.text)\n"
   ]
  },
  {
   "attachments": {},
   "cell_type": "markdown",
   "metadata": {},
   "source": [
    "##### TRANSFORMATION STEPS\n",
    "- ##### Removing of redundant columns\n",
    "- ##### Renaming of Columns\n",
    "- ##### Creation of individual lists\n",
    "- ##### Loading to a pandas Dataframe\n",
    "- ##### Data Type Casting"
   ]
  },
  {
   "cell_type": "code",
   "execution_count": 2,
   "metadata": {},
   "outputs": [],
   "source": [
    "#remove first element as it is not useful to final table\n",
    "head.pop(0)\n",
    "\n",
    "# change the name of elment \"Gls\" as it is duplicated\n",
    "head[25] = 'Gls/90'\n",
    "head[26] = 'ASt/90'\n",
    "head[27] = 'G+A/90'\n",
    "head[28] = 'G-PK/90'\n",
    "head[29] = 'G+A-PK/90'\n",
    "head[30] = 'XG/90'\n",
    "head[31] = 'XAG/90'\n",
    "head[32] = 'XG+XAG/90'\n",
    "head[33] = 'npXG/90'\n",
    "head[34] = 'npXG+XAG/90'\n"
   ]
  },
  {
   "cell_type": "code",
   "execution_count": 3,
   "metadata": {},
   "outputs": [],
   "source": [
    "def splitter(lst, size):\n",
    "    '''this function splits a list into lists of designated element size\n",
    "    lst = list to be splitted\n",
    "    size = length of each list'''\n",
    "    for i in range(0, len(lst), size):\n",
    "        x =  lst[i:i+size]\n",
    "        yield x"
   ]
  },
  {
   "cell_type": "code",
   "execution_count": 4,
   "metadata": {},
   "outputs": [],
   "source": [
    "# using the function to split the table list\n",
    "table_data = list(splitter(table, 36))"
   ]
  },
  {
   "cell_type": "code",
   "execution_count": 5,
   "metadata": {},
   "outputs": [],
   "source": [
    "#creating a pandas datframe for table_data\n",
    "import pandas as pd\n",
    "data = pd.DataFrame(table_data, columns=head)\n",
    "data.drop('Matches', axis=1, inplace=True)"
   ]
  },
  {
   "cell_type": "code",
   "execution_count": 6,
   "metadata": {},
   "outputs": [
    {
     "data": {
      "text/plain": [
       "Index(['Player', 'Nation', 'Pos', 'Squad', 'Age', 'Born', 'MP', 'Starts',\n",
       "       'Min', '90s', 'Gls', 'Ast', 'G+A', 'G-PK', 'PK', 'PKatt', 'CrdY',\n",
       "       'CrdR', 'xG', 'npxG', 'xAG', 'npxG+xAG', 'PrgC', 'PrgP', 'PrgR',\n",
       "       'Gls/90', 'ASt/90', 'G+A/90', 'G-PK/90', 'G+A-PK/90', 'XG/90', 'XAG/90',\n",
       "       'XG+XAG/90', 'npXG/90', 'npXG+XAG/90'],\n",
       "      dtype='object')"
      ]
     },
     "execution_count": 6,
     "metadata": {},
     "output_type": "execute_result"
    }
   ],
   "source": [
    "data.columns"
   ]
  },
  {
   "cell_type": "code",
   "execution_count": 7,
   "metadata": {},
   "outputs": [],
   "source": [
    "# Removes comma from \"Min\" column values\n",
    "data['Min'] = data[\"Min\"].str.replace(\",\", \"\")\n"
   ]
  },
  {
   "cell_type": "code",
   "execution_count": 8,
   "metadata": {},
   "outputs": [],
   "source": [
    "data[[\"Age\", \"Born\", \"MP\", \"Starts\", \"Min\", \"Gls\", \"Ast\", \"G+A\", \n",
    "      \"PK\", \"G-PK\", \"PKatt\", \"CrdY\", \"CrdR\", \"PrgC\", \"PrgP\", \"PrgR\"]] = data[[\"Age\", \"Born\", \"MP\", \"Starts\", \"Min\", \"Gls\", \"Ast\", \"G+A\", \n",
    "      \"PK\", \"G-PK\", \"PKatt\", \"CrdY\", \"CrdR\", \"PrgC\", \"PrgP\", \"PrgR\"]].astype(int)"
   ]
  },
  {
   "cell_type": "code",
   "execution_count": 9,
   "metadata": {},
   "outputs": [],
   "source": [
    "data[['Gls/90', 'ASt/90', 'G+A/90', 'G-PK/90', 'G+A-PK/90', 'XG/90', 'XAG/90',\n",
    "       'XG+XAG/90', 'npXG/90', 'npXG+XAG/90', 'xG', 'npxG', 'xAG', 'npxG+xAG', '90s']] = data[['Gls/90', 'ASt/90', 'G+A/90', 'G-PK/90', 'G+A-PK/90', 'XG/90', 'XAG/90',\n",
    "       'XG+XAG/90', 'npXG/90', 'npXG+XAG/90', 'xG', 'npxG', 'xAG', 'npxG+xAG', '90s']].astype(float)"
   ]
  },
  {
   "attachments": {},
   "cell_type": "markdown",
   "metadata": {},
   "source": [
    "##### LOADING STEP\n",
    "- ##### Loading of tabular data to MySQL Datatbase"
   ]
  },
  {
   "cell_type": "code",
   "execution_count": 20,
   "metadata": {},
   "outputs": [],
   "source": [
    "import pandas as pd\n",
    "from sqlalchemy import create_engine\n",
    "import configparser\n",
    "\n",
    "\n",
    "\n",
    "config = configparser.ConfigParser()\n",
    "config.read('config.ini')\n",
    "\n",
    "# declare variables for config values\n",
    "db_host = config['inputs']['host']\n",
    "db_user = config['inputs']['user']\n",
    "db_password = config['inputs']['password']\n",
    "db_name = config['inputs']['db']\n",
    "db_port = config['inputs']['port']\n",
    "\n",
    "# MySQL database connection details\n",
    "# db_host = config.host\n",
    "# db_port = config.por = t\n",
    "# db_user = config.user\n",
    "# db_password = config.password\n",
    "# db_name = config.database\n",
    "\n",
    "\n",
    "# Create the MySQL engine\n",
    "engine = create_engine(f\"mysql+pymysql://{db_user}:{db_password}@{db_host}:{db_port}/{db_name}\")\n",
    "\n",
    "# Upload the DataFrame to the MySQL database table\n",
    "data.to_sql('epl_player_stats', con=engine, if_exists='replace', index=False)\n",
    "\n",
    "# Close the database connection\n",
    "engine.dispose()\n"
   ]
  },
  {
   "cell_type": "code",
   "execution_count": null,
   "metadata": {},
   "outputs": [],
   "source": [
    "for nn in range(1,200):\n",
    "for hh in range(1,20):\n",
    "    if hh%nn == 0:\n",
    "        print(hh)\n",
    "    else:\n",
    "        continue\n",
    "nn +=1\n"
   ]
  }
 ],
 "metadata": {
  "kernelspec": {
   "display_name": "scrapper",
   "language": "python",
   "name": "python3"
  },
  "language_info": {
   "codemirror_mode": {
    "name": "ipython",
    "version": 3
   },
   "file_extension": ".py",
   "mimetype": "text/x-python",
   "name": "python",
   "nbconvert_exporter": "python",
   "pygments_lexer": "ipython3",
   "version": "3.10.6"
  },
  "orig_nbformat": 4
 },
 "nbformat": 4,
 "nbformat_minor": 2
}
